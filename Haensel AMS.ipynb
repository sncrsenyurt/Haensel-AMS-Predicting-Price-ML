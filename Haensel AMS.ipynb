{
 "cells": [
  {
   "cell_type": "code",
   "execution_count": 156,
   "metadata": {},
   "outputs": [],
   "source": [
    "import pandas as pd\n",
    "import numpy as np\n",
    "import matplotlib.pyplot as plt\n",
    "from sklearn.model_selection import train_test_split\n",
    "from sklearn.metrics import r2_score, mean_squared_error\n",
    "from sklearn.linear_model import Ridge\n",
    "from sklearn.tree import DecisionTreeRegressor\n",
    "from sklearn.ensemble import RandomForestRegressor\n",
    "from xgboost import XGBRegressor\n",
    "from lightgbm import LGBMRegressor\n",
    "from sklearn.neural_network import MLPRegressor\n",
    "from sklearn.preprocessing import MinMaxScaler, StandardScaler, RobustScaler\n",
    "from sklearn.model_selection import GridSearchCV\n",
    "import time\n",
    "import warnings"
   ]
  },
  {
   "cell_type": "code",
   "execution_count": 157,
   "metadata": {},
   "outputs": [],
   "source": [
    "df = pd.read_csv(\".../sample.csv\")"
   ]
  },
  {
   "cell_type": "code",
   "execution_count": 158,
   "metadata": {},
   "outputs": [
    {
     "data": {
      "text/html": [
       "<div>\n",
       "<style scoped>\n",
       "    .dataframe tbody tr th:only-of-type {\n",
       "        vertical-align: middle;\n",
       "    }\n",
       "\n",
       "    .dataframe tbody tr th {\n",
       "        vertical-align: top;\n",
       "    }\n",
       "\n",
       "    .dataframe thead th {\n",
       "        text-align: right;\n",
       "    }\n",
       "</style>\n",
       "<table border=\"1\" class=\"dataframe\">\n",
       "  <thead>\n",
       "    <tr style=\"text-align: right;\">\n",
       "      <th></th>\n",
       "      <th>loc1</th>\n",
       "      <th>loc2</th>\n",
       "      <th>para1</th>\n",
       "      <th>dow</th>\n",
       "      <th>para2</th>\n",
       "      <th>para3</th>\n",
       "      <th>para4</th>\n",
       "      <th>price</th>\n",
       "    </tr>\n",
       "  </thead>\n",
       "  <tbody>\n",
       "    <tr>\n",
       "      <th>0</th>\n",
       "      <td>0</td>\n",
       "      <td>01</td>\n",
       "      <td>1</td>\n",
       "      <td>Mon</td>\n",
       "      <td>662</td>\n",
       "      <td>3000.0</td>\n",
       "      <td>3.8</td>\n",
       "      <td>73.49</td>\n",
       "    </tr>\n",
       "    <tr>\n",
       "      <th>1</th>\n",
       "      <td>9</td>\n",
       "      <td>99</td>\n",
       "      <td>1</td>\n",
       "      <td>Thu</td>\n",
       "      <td>340</td>\n",
       "      <td>2760.0</td>\n",
       "      <td>9.2</td>\n",
       "      <td>300.00</td>\n",
       "    </tr>\n",
       "    <tr>\n",
       "      <th>2</th>\n",
       "      <td>0</td>\n",
       "      <td>04</td>\n",
       "      <td>0</td>\n",
       "      <td>Mon</td>\n",
       "      <td>16</td>\n",
       "      <td>2700.0</td>\n",
       "      <td>3.0</td>\n",
       "      <td>130.00</td>\n",
       "    </tr>\n",
       "    <tr>\n",
       "      <th>3</th>\n",
       "      <td>4</td>\n",
       "      <td>40</td>\n",
       "      <td>1</td>\n",
       "      <td>Mon</td>\n",
       "      <td>17</td>\n",
       "      <td>12320.0</td>\n",
       "      <td>6.4</td>\n",
       "      <td>365.00</td>\n",
       "    </tr>\n",
       "    <tr>\n",
       "      <th>4</th>\n",
       "      <td>5</td>\n",
       "      <td>50</td>\n",
       "      <td>1</td>\n",
       "      <td>Thu</td>\n",
       "      <td>610</td>\n",
       "      <td>2117.0</td>\n",
       "      <td>10.8</td>\n",
       "      <td>357.50</td>\n",
       "    </tr>\n",
       "  </tbody>\n",
       "</table>\n",
       "</div>"
      ],
      "text/plain": [
       "  loc1 loc2  para1  dow  para2    para3  para4   price\n",
       "0    0   01      1  Mon    662   3000.0    3.8   73.49\n",
       "1    9   99      1  Thu    340   2760.0    9.2  300.00\n",
       "2    0   04      0  Mon     16   2700.0    3.0  130.00\n",
       "3    4   40      1  Mon     17  12320.0    6.4  365.00\n",
       "4    5   50      1  Thu    610   2117.0   10.8  357.50"
      ]
     },
     "execution_count": 158,
     "metadata": {},
     "output_type": "execute_result"
    }
   ],
   "source": [
    "df.head()"
   ]
  },
  {
   "cell_type": "code",
   "execution_count": 159,
   "metadata": {},
   "outputs": [
    {
     "name": "stdout",
     "output_type": "stream",
     "text": [
      "<class 'pandas.core.frame.DataFrame'>\n",
      "RangeIndex: 10000 entries, 0 to 9999\n",
      "Data columns (total 8 columns):\n",
      " #   Column  Non-Null Count  Dtype  \n",
      "---  ------  --------------  -----  \n",
      " 0   loc1    10000 non-null  object \n",
      " 1   loc2    10000 non-null  object \n",
      " 2   para1   10000 non-null  int64  \n",
      " 3   dow     10000 non-null  object \n",
      " 4   para2   10000 non-null  int64  \n",
      " 5   para3   10000 non-null  float64\n",
      " 6   para4   10000 non-null  float64\n",
      " 7   price   10000 non-null  float64\n",
      "dtypes: float64(3), int64(2), object(3)\n",
      "memory usage: 625.1+ KB\n"
     ]
    }
   ],
   "source": [
    "df.info()"
   ]
  },
  {
   "cell_type": "markdown",
   "metadata": {},
   "source": [
    "# Data Manipulation"
   ]
  },
  {
   "cell_type": "code",
   "execution_count": 160,
   "metadata": {},
   "outputs": [],
   "source": [
    "# Remove rows where 'loc1' contains 'S' or 'T'\n",
    "df = df[(df[\"loc1\"].str.contains(\"S\") == False) & (df[\"loc1\"].str.contains(\"T\") == False)]\n"
   ]
  },
  {
   "cell_type": "code",
   "execution_count": 161,
   "metadata": {},
   "outputs": [],
   "source": [
    "# Convert 'loc2' and 'loc1' columns to numeric values\n",
    "df[\"loc2\"] = pd.to_numeric(df[\"loc2\"], errors='coerce')\n",
    "df[\"loc1\"] = pd.to_numeric(df[\"loc1\"], errors='coerce')"
   ]
  },
  {
   "cell_type": "code",
   "execution_count": 162,
   "metadata": {},
   "outputs": [],
   "source": [
    "df.dropna(inplace=True)"
   ]
  },
  {
   "cell_type": "code",
   "execution_count": 163,
   "metadata": {},
   "outputs": [],
   "source": [
    "# Map days of the week to numeric values\n",
    "days_of_week = {'Mon': 1, 'Tue': 2, 'Wed': 3, 'Thu': 4, 'Fri': 5, 'Sat': 6, 'Sun': 7}\n",
    "df['dow'] = df['dow'].map(days_of_week)"
   ]
  },
  {
   "cell_type": "code",
   "execution_count": 164,
   "metadata": {},
   "outputs": [],
   "source": [
    "dow_dummies = pd.get_dummies(df['dow']).astype(int)\n",
    "df = df.drop(columns='dow').join(dow_dummies)"
   ]
  },
  {
   "cell_type": "code",
   "execution_count": 165,
   "metadata": {},
   "outputs": [],
   "source": [
    "df.columns = df.columns.astype(str)"
   ]
  },
  {
   "cell_type": "code",
   "execution_count": 166,
   "metadata": {},
   "outputs": [
    {
     "data": {
      "text/html": [
       "<div>\n",
       "<style scoped>\n",
       "    .dataframe tbody tr th:only-of-type {\n",
       "        vertical-align: middle;\n",
       "    }\n",
       "\n",
       "    .dataframe tbody tr th {\n",
       "        vertical-align: top;\n",
       "    }\n",
       "\n",
       "    .dataframe thead th {\n",
       "        text-align: right;\n",
       "    }\n",
       "</style>\n",
       "<table border=\"1\" class=\"dataframe\">\n",
       "  <thead>\n",
       "    <tr style=\"text-align: right;\">\n",
       "      <th></th>\n",
       "      <th>loc1</th>\n",
       "      <th>loc2</th>\n",
       "      <th>para1</th>\n",
       "      <th>para2</th>\n",
       "      <th>para3</th>\n",
       "      <th>para4</th>\n",
       "      <th>price</th>\n",
       "      <th>1</th>\n",
       "      <th>2</th>\n",
       "      <th>3</th>\n",
       "      <th>4</th>\n",
       "      <th>5</th>\n",
       "      <th>6</th>\n",
       "      <th>7</th>\n",
       "    </tr>\n",
       "  </thead>\n",
       "  <tbody>\n",
       "    <tr>\n",
       "      <th>0</th>\n",
       "      <td>0</td>\n",
       "      <td>1.0</td>\n",
       "      <td>1</td>\n",
       "      <td>662</td>\n",
       "      <td>3000.0</td>\n",
       "      <td>3.8</td>\n",
       "      <td>73.49</td>\n",
       "      <td>1</td>\n",
       "      <td>0</td>\n",
       "      <td>0</td>\n",
       "      <td>0</td>\n",
       "      <td>0</td>\n",
       "      <td>0</td>\n",
       "      <td>0</td>\n",
       "    </tr>\n",
       "    <tr>\n",
       "      <th>1</th>\n",
       "      <td>9</td>\n",
       "      <td>99.0</td>\n",
       "      <td>1</td>\n",
       "      <td>340</td>\n",
       "      <td>2760.0</td>\n",
       "      <td>9.2</td>\n",
       "      <td>300.00</td>\n",
       "      <td>0</td>\n",
       "      <td>0</td>\n",
       "      <td>0</td>\n",
       "      <td>1</td>\n",
       "      <td>0</td>\n",
       "      <td>0</td>\n",
       "      <td>0</td>\n",
       "    </tr>\n",
       "    <tr>\n",
       "      <th>2</th>\n",
       "      <td>0</td>\n",
       "      <td>4.0</td>\n",
       "      <td>0</td>\n",
       "      <td>16</td>\n",
       "      <td>2700.0</td>\n",
       "      <td>3.0</td>\n",
       "      <td>130.00</td>\n",
       "      <td>1</td>\n",
       "      <td>0</td>\n",
       "      <td>0</td>\n",
       "      <td>0</td>\n",
       "      <td>0</td>\n",
       "      <td>0</td>\n",
       "      <td>0</td>\n",
       "    </tr>\n",
       "    <tr>\n",
       "      <th>3</th>\n",
       "      <td>4</td>\n",
       "      <td>40.0</td>\n",
       "      <td>1</td>\n",
       "      <td>17</td>\n",
       "      <td>12320.0</td>\n",
       "      <td>6.4</td>\n",
       "      <td>365.00</td>\n",
       "      <td>1</td>\n",
       "      <td>0</td>\n",
       "      <td>0</td>\n",
       "      <td>0</td>\n",
       "      <td>0</td>\n",
       "      <td>0</td>\n",
       "      <td>0</td>\n",
       "    </tr>\n",
       "    <tr>\n",
       "      <th>4</th>\n",
       "      <td>5</td>\n",
       "      <td>50.0</td>\n",
       "      <td>1</td>\n",
       "      <td>610</td>\n",
       "      <td>2117.0</td>\n",
       "      <td>10.8</td>\n",
       "      <td>357.50</td>\n",
       "      <td>0</td>\n",
       "      <td>0</td>\n",
       "      <td>0</td>\n",
       "      <td>1</td>\n",
       "      <td>0</td>\n",
       "      <td>0</td>\n",
       "      <td>0</td>\n",
       "    </tr>\n",
       "  </tbody>\n",
       "</table>\n",
       "</div>"
      ],
      "text/plain": [
       "   loc1  loc2  para1  para2    para3  para4   price  1  2  3  4  5  6  7\n",
       "0     0   1.0      1    662   3000.0    3.8   73.49  1  0  0  0  0  0  0\n",
       "1     9  99.0      1    340   2760.0    9.2  300.00  0  0  0  1  0  0  0\n",
       "2     0   4.0      0     16   2700.0    3.0  130.00  1  0  0  0  0  0  0\n",
       "3     4  40.0      1     17  12320.0    6.4  365.00  1  0  0  0  0  0  0\n",
       "4     5  50.0      1    610   2117.0   10.8  357.50  0  0  0  1  0  0  0"
      ]
     },
     "execution_count": 166,
     "metadata": {},
     "output_type": "execute_result"
    }
   ],
   "source": [
    "df.head()"
   ]
  },
  {
   "cell_type": "markdown",
   "metadata": {},
   "source": [
    "# Feature Selection"
   ]
  },
  {
   "cell_type": "code",
   "execution_count": 167,
   "metadata": {},
   "outputs": [
    {
     "name": "stdout",
     "output_type": "stream",
     "text": [
      "price    1.000000\n",
      "para2    0.551222\n",
      "para4    0.517614\n",
      "para3    0.356949\n",
      "para1    0.074555\n",
      "5        0.025674\n",
      "1        0.021734\n",
      "6        0.014918\n",
      "7        0.004176\n",
      "2       -0.000974\n",
      "4       -0.019656\n",
      "3       -0.026684\n",
      "loc2    -0.043543\n",
      "loc1    -0.044079\n",
      "Name: price, dtype: float64\n"
     ]
    }
   ],
   "source": [
    "correlation_matrix = df.corr()\n",
    "print(correlation_matrix[\"price\"].sort_values(ascending=False))"
   ]
  },
  {
   "cell_type": "code",
   "execution_count": 168,
   "metadata": {},
   "outputs": [
    {
     "name": "stdout",
     "output_type": "stream",
     "text": [
      "Top 5 features: Index(['para2', 'para4', 'para3', 'para1', '5'], dtype='object')\n"
     ]
    }
   ],
   "source": [
    "# Select top 5 features based on correlation\n",
    "top_features = correlation_matrix[\"price\"].sort_values(ascending=False).index[1:6]\n",
    "print(\"Top 5 features:\", top_features)"
   ]
  },
  {
   "cell_type": "markdown",
   "metadata": {},
   "source": [
    "# Machine Learning Models"
   ]
  },
  {
   "cell_type": "code",
   "execution_count": 169,
   "metadata": {},
   "outputs": [],
   "source": [
    "feature_sets = {\n",
    "    \"full_dataset\": df.drop(columns=['price']),\n",
    "    \"top_5_features\": df[top_features]\n",
    "}"
   ]
  },
  {
   "cell_type": "code",
   "execution_count": 170,
   "metadata": {},
   "outputs": [],
   "source": [
    "regression_models = {\n",
    "    \"Ridge\": Ridge(random_state=42),\n",
    "    \"DecisionTree\": DecisionTreeRegressor(random_state=42, max_depth=6),\n",
    "    \"RandomForest\": RandomForestRegressor(random_state=42),\n",
    "    \"XGBoost\": XGBRegressor(random_state=42),\n",
    "    \"LGBM\": LGBMRegressor(random_state=42),\n",
    "    \"MLP\": MLPRegressor(random_state=42)\n",
    "}"
   ]
  },
  {
   "cell_type": "code",
   "execution_count": 171,
   "metadata": {},
   "outputs": [],
   "source": [
    "# Function to train and evaluate models\n",
    "def make_regression(x_train, y_train, x_test, y_test, model, model_name, verbose=True):\n",
    "    model.fit(x_train, y_train)\n",
    "    \n",
    "    y_predict = model.predict(x_train)\n",
    "    train_error = mean_squared_error(y_train, y_predict, squared=False)\n",
    "    \n",
    "    y_predict = model.predict(x_test)\n",
    "    test_error = mean_squared_error(y_test, y_predict, squared=False)\n",
    "    \n",
    "    r2 = r2_score(y_train, y_predict)\n",
    "    \n",
    "    if verbose:\n",
    "        print(\"----Model name = {}-----\".format(model_name))\n",
    "        print(\"Train error = '{}'\".format(train_error))\n",
    "        print(\"Test error = '{}'\".format(test_error))\n",
    "        print(\"r2_score = '{}'\".format(r2))\n",
    "        print(\"--------------------------------\")\n",
    "    \n",
    "    return model, y_predict, train_error, test_error, r2\n"
   ]
  },
  {
   "cell_type": "code",
   "execution_count": 172,
   "metadata": {},
   "outputs": [],
   "source": [
    "# Dictionary to store results\n",
    "pred_dict = {\n",
    "    \"regression_model\": [],\n",
    "    \"feature_set\": [],\n",
    "    \"Train Error\": [],\n",
    "    \"Test Error\": [],\n",
    "    \"R2\": []\n",
    "}"
   ]
  },
  {
   "cell_type": "code",
   "execution_count": 173,
   "metadata": {},
   "outputs": [
    {
     "name": "stdout",
     "output_type": "stream",
     "text": [
      "Included columns are full_dataset\n",
      "----Model name = Ridge-----\n",
      "Train error = 182.3008389770927\n",
      "Test error = 187.45395213331855\n",
      "r2_score = 0.5548540898601966\n",
      "--------------------------------\n",
      "----Model name = DecisionTree-----\n",
      "Train error = 145.75128239798423\n",
      "Test error = 166.92951573170672\n",
      "r2_score = 0.7154557446549819\n",
      "--------------------------------\n",
      "----Model name = RandomForest-----\n",
      "Train error = 56.943878064347984\n",
      "Test error = 154.68383406858914\n",
      "r2_score = 0.9565670693747674\n",
      "--------------------------------\n",
      "----Model name = XGBoost-----\n",
      "Train error = 78.18661456510331\n",
      "Test error = 181.54149282847226\n",
      "r2_score = 0.9181177306486643\n",
      "--------------------------------\n",
      "[LightGBM] [Info] Auto-choosing col-wise multi-threading, the overhead of testing was 0.000169 seconds.\n",
      "You can set `force_col_wise=true` to remove the overhead.\n",
      "[LightGBM] [Info] Total Bins 769\n",
      "[LightGBM] [Info] Number of data points in the train set: 7994, number of used features: 11\n",
      "[LightGBM] [Info] Start training from score 431.463743\n",
      "----Model name = LGBM-----\n",
      "Train error = 122.42729627350215\n",
      "Test error = 157.4567250686375\n",
      "r2_score = 0.7992379739483844\n",
      "--------------------------------\n",
      "----Model name = MLP-----\n",
      "Train error = 180.95833922134315\n",
      "Test error = 185.98485205158997\n",
      "r2_score = 0.5613862355780136\n",
      "--------------------------------\n",
      "Included columns are top_5_features\n",
      "----Model name = Ridge-----\n",
      "Train error = 182.403227664368\n",
      "Test error = 187.4459735036402\n",
      "r2_score = 0.5543539198666418\n",
      "--------------------------------\n",
      "----Model name = DecisionTree-----\n",
      "Train error = 144.68088635784\n",
      "Test error = 169.33916289308473\n",
      "r2_score = 0.7196197786319299\n",
      "--------------------------------\n",
      "----Model name = RandomForest-----\n",
      "Train error = 59.412819216603715\n",
      "Test error = 163.8774196389001\n",
      "r2_score = 0.9527191392503638\n",
      "--------------------------------\n",
      "----Model name = XGBoost-----\n",
      "Train error = 90.54612746188904\n",
      "Test error = 184.68104852300976\n",
      "r2_score = 0.8901842038340428\n",
      "--------------------------------\n",
      "[LightGBM] [Info] Auto-choosing col-wise multi-threading, the overhead of testing was 0.000287 seconds.\n",
      "You can set `force_col_wise=true` to remove the overhead.\n",
      "[LightGBM] [Info] Total Bins 653\n",
      "[LightGBM] [Info] Number of data points in the train set: 7994, number of used features: 5\n",
      "[LightGBM] [Info] Start training from score 431.463743\n",
      "----Model name = LGBM-----\n",
      "Train error = 129.97473575127904\n",
      "Test error = 164.30094841294581\n",
      "r2_score = 0.773721683384248\n",
      "--------------------------------\n",
      "----Model name = MLP-----\n",
      "Train error = 187.08179346058924\n",
      "Test error = 191.94612618724477\n",
      "r2_score = 0.5311994612417337\n",
      "--------------------------------\n"
     ]
    }
   ],
   "source": [
    "# Iterate through feature sets and models\n",
    "for feature_set_name in feature_sets.keys():\n",
    "    feature_set = feature_sets[feature_set_name]\n",
    "    print(f\"Included columns are {feature_set_name}\")\n",
    "    for model_name in regression_models.keys():\n",
    "        model = regression_models[model_name]\n",
    "        y = df[\"price\"]\n",
    "        x = feature_set\n",
    "        x_train, x_test, y_train, y_test = train_test_split(x, y, test_size=0.2, random_state=42)\n",
    "        trained_model, y_predict, train_error, test_error, r2 = make_regression(x_train, y_train, x_test, y_test, model, model_name)\n",
    "        pred_dict[\"regression_model\"].append(model_name)\n",
    "        pred_dict[\"feature_set\"].append(feature_set_name)\n",
    "        pred_dict[\"Train Error\"].append(train_error)\n",
    "        pred_dict[\"Test Error\"].append(test_error)\n",
    "        pred_dict[\"R2\"].append(r2)\n",
    "\n"
   ]
  },
  {
   "cell_type": "code",
   "execution_count": 174,
   "metadata": {},
   "outputs": [],
   "source": [
    "pred_df = pd.DataFrame(pred_dict)"
   ]
  },
  {
   "cell_type": "code",
   "execution_count": 175,
   "metadata": {},
   "outputs": [
    {
     "data": {
      "text/html": [
       "<div>\n",
       "<style scoped>\n",
       "    .dataframe tbody tr th:only-of-type {\n",
       "        vertical-align: middle;\n",
       "    }\n",
       "\n",
       "    .dataframe tbody tr th {\n",
       "        vertical-align: top;\n",
       "    }\n",
       "\n",
       "    .dataframe thead th {\n",
       "        text-align: right;\n",
       "    }\n",
       "</style>\n",
       "<table border=\"1\" class=\"dataframe\">\n",
       "  <thead>\n",
       "    <tr style=\"text-align: right;\">\n",
       "      <th></th>\n",
       "      <th>regression_model</th>\n",
       "      <th>feature_set</th>\n",
       "      <th>Train Error</th>\n",
       "      <th>Test Error</th>\n",
       "      <th>R2</th>\n",
       "    </tr>\n",
       "  </thead>\n",
       "  <tbody>\n",
       "    <tr>\n",
       "      <th>0</th>\n",
       "      <td>Ridge</td>\n",
       "      <td>full_dataset</td>\n",
       "      <td>182.300839</td>\n",
       "      <td>187.453952</td>\n",
       "      <td>0.554854</td>\n",
       "    </tr>\n",
       "    <tr>\n",
       "      <th>1</th>\n",
       "      <td>DecisionTree</td>\n",
       "      <td>full_dataset</td>\n",
       "      <td>145.751282</td>\n",
       "      <td>166.929516</td>\n",
       "      <td>0.715456</td>\n",
       "    </tr>\n",
       "    <tr>\n",
       "      <th>2</th>\n",
       "      <td>RandomForest</td>\n",
       "      <td>full_dataset</td>\n",
       "      <td>56.943878</td>\n",
       "      <td>154.683834</td>\n",
       "      <td>0.956567</td>\n",
       "    </tr>\n",
       "    <tr>\n",
       "      <th>3</th>\n",
       "      <td>XGBoost</td>\n",
       "      <td>full_dataset</td>\n",
       "      <td>78.186615</td>\n",
       "      <td>181.541493</td>\n",
       "      <td>0.918118</td>\n",
       "    </tr>\n",
       "    <tr>\n",
       "      <th>4</th>\n",
       "      <td>LGBM</td>\n",
       "      <td>full_dataset</td>\n",
       "      <td>122.427296</td>\n",
       "      <td>157.456725</td>\n",
       "      <td>0.799238</td>\n",
       "    </tr>\n",
       "  </tbody>\n",
       "</table>\n",
       "</div>"
      ],
      "text/plain": [
       "  regression_model   feature_set  Train Error  Test Error        R2\n",
       "0            Ridge  full_dataset   182.300839  187.453952  0.554854\n",
       "1     DecisionTree  full_dataset   145.751282  166.929516  0.715456\n",
       "2     RandomForest  full_dataset    56.943878  154.683834  0.956567\n",
       "3          XGBoost  full_dataset    78.186615  181.541493  0.918118\n",
       "4             LGBM  full_dataset   122.427296  157.456725  0.799238"
      ]
     },
     "execution_count": 175,
     "metadata": {},
     "output_type": "execute_result"
    }
   ],
   "source": [
    "pred_df.head()"
   ]
  },
  {
   "cell_type": "markdown",
   "metadata": {},
   "source": [
    " # Grid Search for Random Forest"
   ]
  },
  {
   "cell_type": "code",
   "execution_count": 176,
   "metadata": {},
   "outputs": [],
   "source": [
    "# Suppress specific sklearn warnings\n",
    "warnings.filterwarnings(\"ignore\", category=FutureWarning)\n",
    "warnings.filterwarnings(\"ignore\", category=UserWarning)"
   ]
  },
  {
   "cell_type": "code",
   "execution_count": 177,
   "metadata": {},
   "outputs": [],
   "source": [
    "# Create the parameter grid based on the results of random search\n",
    "param_grid = {\n",
    "    'bootstrap': [True],\n",
    "    'ccp_alpha': [0.0],\n",
    "    'criterion': ['squared_error'],\n",
    "    'max_depth': [None],\n",
    "    'max_features': ['sqrt', 'log2', None],\n",
    "    'max_leaf_nodes': [None],\n",
    "    'max_samples': [None],\n",
    "    'min_impurity_decrease': [0.0],\n",
    "    'min_samples_leaf': [1],\n",
    "    'min_samples_split': [2],\n",
    "    'min_weight_fraction_leaf': [0.0],\n",
    "    'n_estimators': [50, 500, 700],\n",
    "    'n_jobs': [None],\n",
    "    'oob_score': [True, False],\n",
    "    'random_state': [42],\n",
    "    'verbose': [0],\n",
    "    'warm_start': [True, False],\n",
    "}\n"
   ]
  },
  {
   "cell_type": "code",
   "execution_count": 178,
   "metadata": {},
   "outputs": [],
   "source": [
    "# Create a base model\n",
    "rf = RandomForestRegressor()\n"
   ]
  },
  {
   "cell_type": "code",
   "execution_count": 179,
   "metadata": {},
   "outputs": [
    {
     "name": "stdout",
     "output_type": "stream",
     "text": [
      "Execution time: 63.18 seconds which is: 1.05 minutes.\n"
     ]
    }
   ],
   "source": [
    "# Instantiate the grid search model\n",
    "grid_search = GridSearchCV(estimator=rf, param_grid=param_grid, \n",
    "                          cv=3, n_jobs=-1, verbose=0, scoring='neg_mean_squared_error')\n",
    "\n",
    "start = time.time()\n",
    "grid_search.fit(x_train, y_train)\n",
    "end = time.time()\n",
    "\n",
    "elapsed_time_seconds = end - start\n",
    "elapsed_time = elapsed_time_seconds / 60\n",
    "elapsed_time_seconds = round(elapsed_time_seconds, 2)\n",
    "elapsed_time = round(elapsed_time, 2)\n",
    "\n",
    "print('Execution time:', elapsed_time_seconds, 'seconds which is:', elapsed_time, 'minutes.')\n",
    "best_params = grid_search.best_params_"
   ]
  },
  {
   "cell_type": "code",
   "execution_count": 180,
   "metadata": {},
   "outputs": [
    {
     "name": "stdout",
     "output_type": "stream",
     "text": [
      "----Model name = Random Forest-----\n",
      "Train error = '58.49133060721946'\n",
      "Test error = '160.5027147821223'\n",
      "r2_score = '0.9541744110550547'\n",
      "--------------------------------\n"
     ]
    }
   ],
   "source": [
    "# Train the Random Forest with the best parameters from Grid Search\n",
    "model = RandomForestRegressor()\n",
    "model.set_params(**best_params)\n",
    "\n",
    "model_name = \"Random Forest\"\n",
    "\n",
    "model.fit(x_train, y_train)\n",
    "\n",
    "y_predict = model.predict(x_train)\n",
    "train_error_gr = mean_squared_error(y_train, y_predict, squared=False)\n",
    "\n",
    "y_predict = model.predict(x_test)\n",
    "test_error_gr = mean_squared_error(y_test, y_predict, squared=False)\n",
    "\n",
    "y_predict = model.predict(x_train)\n",
    "r2_gr = r2_score(y_train, y_predict)\n",
    "\n",
    "print(\"----Model name = {}-----\".format(model_name))\n",
    "print(\"Train error = '{}'\".format(train_error_gr))\n",
    "print(\"Test error = '{}'\".format(test_error_gr))\n",
    "print(\"r2_score = '{}'\".format(r2_gr))\n",
    "print(\"--------------------------------\")\n"
   ]
  },
  {
   "cell_type": "code",
   "execution_count": 181,
   "metadata": {},
   "outputs": [],
   "source": [
    "train_error_f = train_error_gr\n",
    "test_error_f = test_error_gr\n",
    "r2_f = r2_gr"
   ]
  },
  {
   "cell_type": "markdown",
   "metadata": {},
   "source": [
    "# SCALING"
   ]
  },
  {
   "cell_type": "markdown",
   "metadata": {},
   "source": [
    "### Min-Max Scaling"
   ]
  },
  {
   "cell_type": "code",
   "execution_count": 182,
   "metadata": {},
   "outputs": [
    {
     "name": "stdout",
     "output_type": "stream",
     "text": [
      "Normalized Train error = '57.50402922523972'\n",
      "Normalized Test error = '160.8055625902965'\n",
      "Normalized r2_score = '0.9557083759268272'\n"
     ]
    }
   ],
   "source": [
    "x = df.drop(columns=['price'])\n",
    "y = df[\"price\"]\n",
    "y = np.asanyarray(y).reshape(-1, 1)\n",
    "\n",
    "x_scaler = MinMaxScaler()\n",
    "x_scaler.fit(X=x, y=y)\n",
    "x_scaled = x_scaler.transform(x)\n",
    "\n",
    "y_scaler = MinMaxScaler()\n",
    "y_scaler.fit(y)\n",
    "y_scaled = y_scaler.transform(y)\n",
    "\n",
    "x_train_scaled, x_test_scaled, y_train_scaled, y_test_scaled = train_test_split(\n",
    "    x_scaled, y_scaled, test_size=0.2, random_state=42)\n",
    "\n",
    "model = RandomForestRegressor()\n",
    "model.set_params(**best_params)\n",
    "model.fit(x_train_scaled, y_train_scaled)\n",
    "\n",
    "y_predict_scaled = model.predict(x_train_scaled)\n",
    "y_predict_train_minmax = y_scaler.inverse_transform(y_predict_scaled.reshape(-1, 1))\n",
    "rmse_error_train_minmax = mean_squared_error(y_train, y_predict_train_minmax[:, 0], squared=False)\n",
    "r2_mm = r2_score(y_train, y_predict_train_minmax)\n",
    "\n",
    "model.fit(x_test_scaled, y_test_scaled)\n",
    "\n",
    "y_predict_scaled_t = model.predict(x_test_scaled)\n",
    "y_predict_test_minmax = y_scaler.inverse_transform(y_predict_scaled_t.reshape(-1, 1))\n",
    "rmse_error_test_minmax = mean_squared_error(y_test, y_predict_test_minmax[:, 0], squared=False)\n",
    "\n",
    "print(\"Normalized Train error = '{}'\".format(rmse_error_train_minmax))\n",
    "print(\"Normalized Test error = '{}'\".format(rmse_error_test_minmax))\n",
    "print(\"Normalized r2_score = '{}'\".format(r2_mm))"
   ]
  },
  {
   "cell_type": "markdown",
   "metadata": {},
   "source": [
    "### Standard Scaling"
   ]
  },
  {
   "cell_type": "code",
   "execution_count": 183,
   "metadata": {},
   "outputs": [
    {
     "name": "stdout",
     "output_type": "stream",
     "text": [
      "Standardized Train error = '57.66448452503548'\n",
      "Standardized Test error = '160.2206527363088'\n",
      "Standardized r2_score = '0.9554608544534733'\n"
     ]
    }
   ],
   "source": [
    "x_scaler = StandardScaler()\n",
    "x_scaler.fit(X=x, y=y)\n",
    "x_scaled = x_scaler.transform(x)\n",
    "\n",
    "y_scaler = StandardScaler()\n",
    "y_scaler.fit(y)\n",
    "y_scaled = y_scaler.transform(y)\n",
    "\n",
    "x_train_scaled, x_test_scaled, y_train_scaled, y_test_scaled = train_test_split(\n",
    "    x_scaled, y_scaled, test_size=0.2, random_state=42)\n",
    "\n",
    "model = RandomForestRegressor()\n",
    "model.set_params(**best_params)\n",
    "model.fit(x_train_scaled, y_train_scaled)\n",
    "\n",
    "y_predict_scaled = model.predict(x_train_scaled)\n",
    "y_predict_train_standard = y_scaler.inverse_transform(y_predict_scaled.reshape(-1, 1))\n",
    "rmse_error_train_standard = mean_squared_error(y_train, y_predict_train_standard[:, 0], squared=False)\n",
    "r2_standard = r2_score(y_train, y_predict_train_standard)\n",
    "\n",
    "model.fit(x_test_scaled, y_test_scaled)\n",
    "\n",
    "y_predict_scaled_t = model.predict(x_test_scaled)\n",
    "y_predict_test_standard = y_scaler.inverse_transform(y_predict_scaled_t.reshape(-1, 1))\n",
    "rmse_error_test_standard = mean_squared_error(y_test, y_predict_test_standard[:, 0], squared=False)\n",
    "\n",
    "print(\"Standardized Train error = '{}'\".format(rmse_error_train_standard))\n",
    "print(\"Standardized Test error = '{}'\".format(rmse_error_test_standard))\n",
    "print(\"Standardized r2_score = '{}'\".format(r2_standard))"
   ]
  },
  {
   "cell_type": "markdown",
   "metadata": {},
   "source": [
    "### Robust Scaling\n"
   ]
  },
  {
   "cell_type": "code",
   "execution_count": 184,
   "metadata": {},
   "outputs": [
    {
     "name": "stdout",
     "output_type": "stream",
     "text": [
      "Robust Scaled Train error = '57.61839457145699'\n",
      "Robust Scaled Test error = '160.84844545421527'\n",
      "Robust Scaled r2_score = '0.955532024317759'\n"
     ]
    }
   ],
   "source": [
    "x_scaler = RobustScaler()\n",
    "x_scaler.fit(X=x, y=y)\n",
    "x_scaled = x_scaler.transform(x)\n",
    "\n",
    "y_scaler = RobustScaler()\n",
    "y_scaler.fit(y)\n",
    "y_scaled = y_scaler.transform(y)\n",
    "\n",
    "x_train_scaled, x_test_scaled, y_train_scaled, y_test_scaled = train_test_split(\n",
    "    x_scaled, y_scaled, test_size=0.2, random_state=42)\n",
    "\n",
    "model = RandomForestRegressor()\n",
    "model.set_params(**best_params)\n",
    "model.fit(x_train_scaled, y_train_scaled)\n",
    "\n",
    "y_predict_scaled = model.predict(x_train_scaled)\n",
    "y_predict_train_robust = y_scaler.inverse_transform(y_predict_scaled.reshape(-1, 1))\n",
    "rmse_error_train_robust = mean_squared_error(y_train, y_predict_train_robust[:, 0], squared=False)\n",
    "r2_robust = r2_score(y_train, y_predict_train_robust)\n",
    "\n",
    "model.fit(x_test_scaled, y_test_scaled)\n",
    "\n",
    "y_predict_scaled_t = model.predict(x_test_scaled)\n",
    "y_predict_test_robust = y_scaler.inverse_transform(y_predict_scaled_t.reshape(-1, 1))\n",
    "rmse_error_test_robust = mean_squared_error(y_test, y_predict_test_robust[:, 0], squared=False)\n",
    "\n",
    "print(\"Robust Scaled Train error = '{}'\".format(rmse_error_train_robust))\n",
    "print(\"Robust Scaled Test error = '{}'\".format(rmse_error_test_robust))\n",
    "print(\"Robust Scaled r2_score = '{}'\".format(r2_robust))"
   ]
  },
  {
   "cell_type": "markdown",
   "metadata": {},
   "source": [
    "# Model Evaluation Summary"
   ]
  },
  {
   "cell_type": "code",
   "execution_count": 186,
   "metadata": {},
   "outputs": [],
   "source": [
    "# Collect results in a dictionary\n",
    "pred_dict = {\n",
    "    \"technique\": [\"Base Model\", \"Grid Search\", \"Min-Max Scaling\", \"Standard-Scaling\", \"Robust-Scaling\"],\n",
    "    \"Train Error\": [train_error_f, train_error_gr, rmse_error_train_minmax, rmse_error_train_standard, rmse_error_train_robust],\n",
    "    \"Test Error\": [test_error_f, test_error_gr, rmse_error_test_minmax, rmse_error_test_standard, rmse_error_test_robust],\n",
    "    \"R2\": [r2_f, r2_gr, r2_mm, r2_standard, r2_robust]\n",
    "}"
   ]
  },
  {
   "cell_type": "code",
   "execution_count": 187,
   "metadata": {},
   "outputs": [
    {
     "data": {
      "text/html": [
       "<div>\n",
       "<style scoped>\n",
       "    .dataframe tbody tr th:only-of-type {\n",
       "        vertical-align: middle;\n",
       "    }\n",
       "\n",
       "    .dataframe tbody tr th {\n",
       "        vertical-align: top;\n",
       "    }\n",
       "\n",
       "    .dataframe thead th {\n",
       "        text-align: right;\n",
       "    }\n",
       "</style>\n",
       "<table border=\"1\" class=\"dataframe\">\n",
       "  <thead>\n",
       "    <tr style=\"text-align: right;\">\n",
       "      <th></th>\n",
       "      <th>regression_model</th>\n",
       "      <th>feature_set</th>\n",
       "      <th>Train Error</th>\n",
       "      <th>Test Error</th>\n",
       "      <th>R2</th>\n",
       "    </tr>\n",
       "  </thead>\n",
       "  <tbody>\n",
       "    <tr>\n",
       "      <th>0</th>\n",
       "      <td>Ridge</td>\n",
       "      <td>full_dataset</td>\n",
       "      <td>182.300839</td>\n",
       "      <td>187.453952</td>\n",
       "      <td>0.554854</td>\n",
       "    </tr>\n",
       "    <tr>\n",
       "      <th>1</th>\n",
       "      <td>DecisionTree</td>\n",
       "      <td>full_dataset</td>\n",
       "      <td>145.751282</td>\n",
       "      <td>166.929516</td>\n",
       "      <td>0.715456</td>\n",
       "    </tr>\n",
       "    <tr>\n",
       "      <th>2</th>\n",
       "      <td>RandomForest</td>\n",
       "      <td>full_dataset</td>\n",
       "      <td>56.943878</td>\n",
       "      <td>154.683834</td>\n",
       "      <td>0.956567</td>\n",
       "    </tr>\n",
       "    <tr>\n",
       "      <th>3</th>\n",
       "      <td>XGBoost</td>\n",
       "      <td>full_dataset</td>\n",
       "      <td>78.186615</td>\n",
       "      <td>181.541493</td>\n",
       "      <td>0.918118</td>\n",
       "    </tr>\n",
       "    <tr>\n",
       "      <th>4</th>\n",
       "      <td>LGBM</td>\n",
       "      <td>full_dataset</td>\n",
       "      <td>122.427296</td>\n",
       "      <td>157.456725</td>\n",
       "      <td>0.799238</td>\n",
       "    </tr>\n",
       "  </tbody>\n",
       "</table>\n",
       "</div>"
      ],
      "text/plain": [
       "  regression_model   feature_set  Train Error  Test Error        R2\n",
       "0            Ridge  full_dataset   182.300839  187.453952  0.554854\n",
       "1     DecisionTree  full_dataset   145.751282  166.929516  0.715456\n",
       "2     RandomForest  full_dataset    56.943878  154.683834  0.956567\n",
       "3          XGBoost  full_dataset    78.186615  181.541493  0.918118\n",
       "4             LGBM  full_dataset   122.427296  157.456725  0.799238"
      ]
     },
     "execution_count": 187,
     "metadata": {},
     "output_type": "execute_result"
    }
   ],
   "source": [
    "pred_df.head()"
   ]
  },
  {
   "cell_type": "code",
   "execution_count": 195,
   "metadata": {},
   "outputs": [],
   "source": [
    "# Create DataFrame from the dictionary\n",
    "pred_df = pd.DataFrame(pred_dict)"
   ]
  },
  {
   "cell_type": "code",
   "execution_count": 196,
   "metadata": {},
   "outputs": [
    {
     "data": {
      "image/png": "[encoded data removed]",
      "text/plain": [
       "<Figure size 1000x400 with 3 Axes>"
      ]
     },
     "metadata": {},
     "output_type": "display_data"
    }
   ],
   "source": [
    "\n",
    "fig, (ax2, ax3, ax4) = plt.subplots(1, 3, figsize=(10, 4))"
   ]
  },
  {
   "cell_type": "code",
   "execution_count": 199,
   "metadata": {},
   "outputs": [
    {
     "name": "stdout",
     "output_type": "stream",
     "text": [
      "          technique  Train Error  Test Error        R2\n",
      "0        Base Model    58.491331  160.502715  0.954174\n",
      "1       Grid Search    58.491331  160.502715  0.954174\n",
      "2   Min-Max Scaling    57.504029  160.805563  0.955708\n",
      "3  Standard-Scaling    57.664485  160.220653  0.955461\n",
      "4    Robust-Scaling    57.618395  160.848445  0.955532\n"
     ]
    },
    {
     "data": {
      "image/png": "[encoded data removed]",
      "text/plain": [
       "<Figure size 1500x500 with 3 Axes>"
      ]
     },
     "metadata": {},
     "output_type": "display_data"
    }
   ],
   "source": [
    "# Create DataFrame from the dictionary\n",
    "pred_df = pd.DataFrame(pred_dict)\n",
    "print(pred_df)  # Print DataFrame to ensure it has the expected data\n",
    "\n",
   
    "# Create the R-squared graph\n",
    "pred_df.plot(kind='bar', x='technique', y='R2', color='red', ax=ax2, legend=False)\n",
    "ax2.set_xlabel('Technique')\n",
    "ax2.set_ylabel('R Squared')\n",
    "ax2.set_title('R-squared')\n",
    "ax2.tick_params(axis='x', labelrotation=45)\n",
    "\n",
    "# Create the Train Error graph\n",
    "pred_df.plot(kind='bar', x='technique', y='Train Error', color='blue', ax=ax3, legend=False)\n",
    "ax3.set_xlabel('Technique')\n",
    "ax3.set_ylabel('Train Error')\n",
    "ax3.set_title('Train Error')\n",
    "ax3.tick_params(axis='x', labelrotation=45)\n",
    "\n",
    "# Create the Test Error graph\n",
    "pred_df.plot(kind='bar', x='technique', y='Test Error', color='green', ax=ax4, legend=False)\n",
    "ax4.set_xlabel('Technique')\n",
    "ax4.set_ylabel('Test Error')\n",
    "ax4.set_title('Test Error')\n",
    "ax4.tick_params(axis='x', labelrotation=45)\n",
    "\n",
    "# Fit the figure\n",
    "plt.tight_layout()\n",
    "\n",
    "# Show the figure\n",
    "plt.show()\n"
   ]
  }
 ],
 "metadata": {
  "kernelspec": {
   "display_name": "base",
   "language": "python",
   "name": "python3"
  },
  "language_info": {
   "codemirror_mode": {
    "name": "ipython",
    "version": 3
   },
   "file_extension": ".py",
   "mimetype": "text/x-python",
   "name": "python",
   "nbconvert_exporter": "python",
   "pygments_lexer": "ipython3",
   "version": "3.9.19"
  }
 },
 "nbformat": 4,
 "nbformat_minor": 2
}
